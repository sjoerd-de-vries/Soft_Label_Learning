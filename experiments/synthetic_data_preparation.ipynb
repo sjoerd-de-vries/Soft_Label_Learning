{
 "cells": [
  {
   "cell_type": "code",
   "execution_count": null,
   "metadata": {},
   "outputs": [],
   "source": [
    "import datetime\n",
    "import json\n",
    "\n",
    "import matplotlib.pyplot as plt\n",
    "\n",
    "from soft_label_learning.config import path_repository"
   ]
  },
  {
   "cell_type": "markdown",
   "metadata": {},
   "source": [
    "This notebook is used to obtain the number of features to hide to obtain the corresponding low and high uncertainty datasets for running the\n",
    "experiments using synthetic data, generated using the SYNLABEL framework."
   ]
  },
  {
   "cell_type": "markdown",
   "metadata": {},
   "source": [
    "#### Creating different datasets"
   ]
  },
  {
   "cell_type": "markdown",
   "metadata": {},
   "source": [
    "take two different classifiers as the ground truth model:\n",
    "- Random Forest\n",
    "- Logistic Regression"
   ]
  },
  {
   "cell_type": "markdown",
   "metadata": {},
   "source": [
    "#### Process the results"
   ]
  },
  {
   "cell_type": "markdown",
   "metadata": {},
   "source": [
    "Ensure the files run_mtvd_per_set_lr.py and run_mtvd_per_set_rf.py have been \n",
    "exectuted, as their output is used here."
   ]
  },
  {
   "cell_type": "code",
   "execution_count": null,
   "metadata": {},
   "outputs": [],
   "source": [
    "load_data = True\n",
    "model_to_use = \"lr\"\n",
    "\n",
    "if load_data:\n",
    "    # get path to parent folder\n",
    "    save_path = path_repository / \"experiments\" / \"feature_hiding_mtvd\"\n",
    "\n",
    "    # TODO set to the datetime string of the result\n",
    "    time_string_lr = \"date_hh_mm_ss\"\n",
    "    time_string_rf = \"date_hh_mm_ss\"\n",
    "\n",
    "    if model_to_use == \"lr\":\n",
    "        temp_path = f\"{time_string_lr}_dataset_mtvd_lr.json\"\n",
    "    elif model_to_use == \"rf\":\n",
    "        temp_path = f\"{time_string_rf}_dataset_mtvd_rf.json\"\n",
    "    else:\n",
    "        raise ValueError(\"Wrong model value\")\n",
    "    complete_path = save_path / temp_path\n",
    "\n",
    "    with open(complete_path, \"r\") as file:\n",
    "        loaded_dict = json.load(file)"
   ]
  },
  {
   "cell_type": "code",
   "execution_count": null,
   "metadata": {},
   "outputs": [],
   "source": [
    "feature_hide_dict = {}\n",
    "\n",
    "for dataset, result_dict in loaded_dict.items():\n",
    "    feature_hide_dict[dataset] = {}\n",
    "\n",
    "    int_keys = [int(key) for key in result_dict.keys()]\n",
    "\n",
    "    min_mtvd = min(result_dict.values())\n",
    "    max_mtvd = max(result_dict.values())\n",
    "    delta_mtvd = max_mtvd - min_mtvd\n",
    "    c1 = min_mtvd + ((1 / 3) * delta_mtvd)\n",
    "    c2 = min_mtvd + ((2 / 3) * delta_mtvd)\n",
    "\n",
    "    # determine the values for which the MTVD is closest to c1 and c2\n",
    "    min_diff_c1 = 1\n",
    "    min_diff_c2 = 1\n",
    "    for key, value in result_dict.items():\n",
    "        diff_c1 = abs(c1 - value)\n",
    "        diff_c2 = abs(c2 - value)\n",
    "        if diff_c1 < min_diff_c1:\n",
    "            min_diff_c1 = diff_c1\n",
    "            cutoff_1 = int(key)\n",
    "        if diff_c2 < min_diff_c2:\n",
    "            min_diff_c2 = diff_c2\n",
    "            cutoff_2 = int(key)\n",
    "\n",
    "    if cutoff_1 == cutoff_2:\n",
    "        int_keys.sort()\n",
    "        index_c1 = int_keys.index(cutoff_1)\n",
    "        if index_c1 < len(int_keys) - 1:\n",
    "            index_c2 = index_c1 + 1\n",
    "            cutoff_2 = int_keys[index_c2]\n",
    "            diff_c2 = result_dict[str(cutoff_2)]\n",
    "        else:\n",
    "            print(\"!!\")\n",
    "            print(\"couldn't find cutoff_2 for\", dataset)\n",
    "\n",
    "    feature_hide_dict[dataset][\"cutoff_1\"] = cutoff_1\n",
    "    feature_hide_dict[dataset][\"diff_c1\"] = min_diff_c1\n",
    "    feature_hide_dict[dataset][\"cutoff_2\"] = cutoff_2\n",
    "    feature_hide_dict[dataset][\"diff_c2\"] = min_diff_c2\n",
    "\n",
    "    plt.vlines(cutoff_1, 0, 1, colors=\"gray\", linestyles=\"dashed\", linewidth=1)\n",
    "    plt.vlines(cutoff_2, 0, 1, colors=\"gray\", linestyles=\"dashed\", linewidth=1)\n",
    "    plt.hlines(\n",
    "        c1,\n",
    "        min(int_keys),\n",
    "        max(int_keys),\n",
    "        colors=\"gray\",\n",
    "        linewidth=1,\n",
    "        alpha=0.5,\n",
    "    )\n",
    "    plt.hlines(\n",
    "        c2,\n",
    "        min(int_keys),\n",
    "        max(int_keys),\n",
    "        colors=\"gray\",\n",
    "        linewidth=1,\n",
    "        alpha=0.5,\n",
    "    )\n",
    "\n",
    "    plt.plot(int_keys, result_dict.values(), label=dataset)\n",
    "    plt.title(dataset)\n",
    "    plt.xlabel(\"Number of features excluded\")\n",
    "    plt.ylabel(\"MTVD (Y_G, Y_PG)\")\n",
    "\n",
    "    plt.show()\n",
    "\n",
    "avg_1 = 0\n",
    "avg_2 = 0\n",
    "\n",
    "for key, value in feature_hide_dict.items():\n",
    "    avg_1 += feature_hide_dict[key][\"diff_c1\"]\n",
    "    avg_2 += feature_hide_dict[key][\"diff_c2\"]\n",
    "\n",
    "avg_1 = avg_1 / len(feature_hide_dict)\n",
    "avg_2 = avg_2 / len(feature_hide_dict)\n",
    "print(f\"avg_1: {avg_1}, avg_2: {avg_2}\")"
   ]
  },
  {
   "cell_type": "code",
   "execution_count": null,
   "metadata": {},
   "outputs": [],
   "source": [
    "save_feature_hide_dict = True\n",
    "\n",
    "if save_feature_hide_dict:\n",
    "    # get current time\n",
    "    now = datetime.datetime.now()\n",
    "    time_string = now.strftime(\"%Y%m%d_%H_%M_%S\")\n",
    "    result_string = time_string + f\"_features_to_hide_{model_to_use}.json\"\n",
    "\n",
    "    # get path to parent folder\n",
    "    save_path = path_repository / \"experiments\" / \"feature_hiding_mtvd\"\n",
    "\n",
    "    complete_path = save_path / result_string\n",
    "\n",
    "    # Convert and write JSON object to file\n",
    "    with open(complete_path, \"w\") as outfile:\n",
    "        json.dump(feature_hide_dict, outfile)"
   ]
  }
 ],
 "metadata": {
  "kernelspec": {
   "display_name": "label_confidences",
   "language": "python",
   "name": "python3"
  },
  "language_info": {
   "codemirror_mode": {
    "name": "ipython",
    "version": 3
   },
   "file_extension": ".py",
   "mimetype": "text/x-python",
   "name": "python",
   "nbconvert_exporter": "python",
   "pygments_lexer": "ipython3",
   "version": "3.10.14"
  }
 },
 "nbformat": 4,
 "nbformat_minor": 2
}
