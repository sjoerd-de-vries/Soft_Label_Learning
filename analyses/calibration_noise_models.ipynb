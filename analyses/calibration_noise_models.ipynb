{
 "cells": [
  {
   "cell_type": "code",
   "execution_count": null,
   "metadata": {},
   "outputs": [],
   "source": [
    "import matplotlib.pyplot as plt\n",
    "import numpy as np\n",
    "\n",
    "\n",
    "import soft_label_learning.data_generation.calibration as calibration\n",
    "from soft_label_learning.config import path_output"
   ]
  },
  {
   "cell_type": "code",
   "execution_count": null,
   "metadata": {},
   "outputs": [],
   "source": [
    "x = np.linspace(0, 1, 100)"
   ]
  },
  {
   "cell_type": "code",
   "execution_count": null,
   "metadata": {},
   "outputs": [],
   "source": [
    "strength = 0.3  # 0.1, 0.2, 0.3 good values for different levels of calibration\n",
    "base = x\n",
    "f1 = calibration.calibration_func(x, strength, True)\n",
    "f2 = calibration.calibration_func(x, -strength, True)\n",
    "f3 = calibration.calibration_func(x, strength, False)\n",
    "f4 = calibration.calibration_func(x, -strength, False)\n",
    "\n",
    "fig, ax = plt.subplots()\n",
    "ax.plot(x, base, label=\"Perfect Calibration\")\n",
    "ax.plot(x, f1, label=\"Underextremity\", linestyle=\"dashed\")\n",
    "ax.plot(x, f2, label=\"Overextremity\", linestyle=\"dotted\")\n",
    "ax.plot(x, f3, label=\"Overprediction\", linestyle=\"dashdot\")\n",
    "ax.plot(x, f4, label=\"Underprediction\", linestyle=(0, (5, 10)))\n",
    "\n",
    "ax.set_xlabel(\"Actual Class Probability\")\n",
    "ax.set_ylabel(\"Estimated Class Probability\")\n",
    "\n",
    "ax.legend()"
   ]
  },
  {
   "cell_type": "code",
   "execution_count": null,
   "metadata": {},
   "outputs": [],
   "source": [
    "if True:\n",
    "    fig.savefig(\n",
    "        path_output / \"calibration_models\" / \"calibration_models.png\",\n",
    "        dpi=300,\n",
    "        bbox_inches=\"tight\",\n",
    "    )"
   ]
  },
  {
   "cell_type": "markdown",
   "metadata": {},
   "source": []
  }
 ],
 "metadata": {
  "kernelspec": {
   "display_name": "soft_label_calibration",
   "language": "python",
   "name": "python3"
  },
  "language_info": {
   "codemirror_mode": {
    "name": "ipython",
    "version": 3
   },
   "file_extension": ".py",
   "mimetype": "text/x-python",
   "name": "python",
   "nbconvert_exporter": "python",
   "pygments_lexer": "ipython3",
   "version": "3.10.14"
  }
 },
 "nbformat": 4,
 "nbformat_minor": 2
}
