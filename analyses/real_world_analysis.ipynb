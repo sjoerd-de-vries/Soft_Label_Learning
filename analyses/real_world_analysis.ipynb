{
 "cells": [
  {
   "cell_type": "code",
   "execution_count": null,
   "metadata": {},
   "outputs": [],
   "source": [
    "import json\n",
    "\n",
    "import matplotlib.pyplot as plt\n",
    "import numpy as np\n",
    "\n",
    "from soft_label_learning.config import path_output\n",
    "from soft_label_learning.experiments.experiment_settings import real_world_settings\n",
    "from soft_label_learning.experiments.process_synthetic_data import replace_list_item"
   ]
  },
  {
   "cell_type": "markdown",
   "metadata": {},
   "source": [
    "#### Analyse experiment results"
   ]
  },
  {
   "cell_type": "code",
   "execution_count": null,
   "metadata": {},
   "outputs": [],
   "source": [
    "exp_settings = real_world_settings.copy()\n",
    "\n",
    "## Settings\n",
    "train_fractions = [5, 10, 20, 40, 60, 80]\n",
    "alpha = 1"
   ]
  },
  {
   "cell_type": "markdown",
   "metadata": {},
   "source": [
    "Load experiment results"
   ]
  },
  {
   "cell_type": "code",
   "execution_count": null,
   "metadata": {},
   "outputs": [],
   "source": [
    "# TODO set to the datetime string of the result\n",
    "time_string = \"date_hh_mm_ss\"\n",
    "complete_path = path_output / \"real_world\" / f\"{time_string}_result_dict.json\"\n",
    "\n",
    "with open(complete_path) as f:\n",
    "    result_dict_loaded = json.load(f)"
   ]
  },
  {
   "cell_type": "markdown",
   "metadata": {},
   "source": [
    "#### Analyse results"
   ]
  },
  {
   "cell_type": "code",
   "execution_count": null,
   "metadata": {},
   "outputs": [],
   "source": [
    "metric_dict = {\n",
    "    \"auc-test-soft_prop-pv\": \"AUC\",\n",
    "    \"auc-test-soft_prop-samp\": \"AUC\",\n",
    "    \"tvd-test-soft_prop-soft\": r\"$\\overline{TVD}$\",\n",
    "}"
   ]
  },
  {
   "cell_type": "code",
   "execution_count": null,
   "metadata": {},
   "outputs": [],
   "source": [
    "eval_settings = [\n",
    "    \"auc-test-soft_prop-pv\",\n",
    "    \"auc-test-soft_prop-samp\",\n",
    "    \"tvd-test-soft_prop-soft\",\n",
    "]\n",
    "\n",
    "figure_dict = {}\n",
    "\n",
    "for eval_setting in eval_settings:\n",
    "    # initiate figure\n",
    "    fig, axs = plt.subplots(4, 1, sharex=True, figsize=(12, 8))\n",
    "\n",
    "    # uncomment to get title with plot\n",
    "    # fig.subtitle(\"Evaluation setting: \" + eval_setting)\n",
    "    color_counter = 0\n",
    "    minval = 100\n",
    "    maxval = 0\n",
    "\n",
    "    for i, ax in enumerate(axs):\n",
    "        clf = [\"LR\", \"SGD\", \"GNB\", \"DT\"][i]\n",
    "        color_counter += 1\n",
    "\n",
    "        methods = exp_settings[\"method\"].copy()\n",
    "\n",
    "        plot_values = []\n",
    "\n",
    "        color = f\"C{color_counter}\"\n",
    "        alpha = 1\n",
    "        width = 0.13\n",
    "        scale = 1.15\n",
    "\n",
    "        counter = 0\n",
    "\n",
    "        for temp_train_frac in train_fractions:\n",
    "            train_frac = str(temp_train_frac)\n",
    "\n",
    "            for idx, method in enumerate(methods):\n",
    "                result = result_dict_loaded[train_frac][clf][method][eval_setting][\n",
    "                    \"mean\"\n",
    "                ]\n",
    "                if result < minval:\n",
    "                    minval = result\n",
    "                if result > maxval:\n",
    "                    maxval = result\n",
    "\n",
    "                label = method\n",
    "\n",
    "                plot_values.append(result)\n",
    "                if temp_train_frac == 80:\n",
    "                    ax.bar(\n",
    "                        idx * scale - 0.5 + (counter * 0.15),\n",
    "                        result,\n",
    "                        width=width,\n",
    "                        label=label,\n",
    "                        alpha=alpha,\n",
    "                        color=color,\n",
    "                    )\n",
    "                else:\n",
    "                    ax.bar(\n",
    "                        idx * scale - 0.5 + (counter * 0.15),\n",
    "                        result,\n",
    "                        width=width,\n",
    "                        alpha=alpha,\n",
    "                        color=color,\n",
    "                    )\n",
    "\n",
    "            counter += 1\n",
    "\n",
    "        # set the method as the x labels\n",
    "        # rotate the x labels\n",
    "        methods = replace_list_item(methods, \"base_clf_s\", \"SampleClf\")\n",
    "        ax.set_xticks(np.array(range(len(methods))) * scale)\n",
    "        ax.set_xticklabels(methods, rotation=30, ha=\"right\")\n",
    "        ax.set_title(clf)\n",
    "        ax.set_ylabel(metric_dict[eval_setting])\n",
    "\n",
    "        ax.hlines(\n",
    "            max(plot_values),\n",
    "            -2,\n",
    "            16,\n",
    "            colors=\"grey\",\n",
    "            linestyles=(0, (10, 10)),\n",
    "            linewidth=1,\n",
    "        )\n",
    "        ax.hlines(\n",
    "            min(plot_values),\n",
    "            -2,\n",
    "            16,\n",
    "            colors=\"grey\",\n",
    "            linestyles=(0, (10, 10)),\n",
    "            linewidth=1,\n",
    "        )\n",
    "\n",
    "        plt.xlim(-0.85, 15.5)\n",
    "        plt.tight_layout()\n",
    "\n",
    "    for ax in axs:\n",
    "        ax.set_ylim(minval - 0.02, maxval + 0.02)\n",
    "\n",
    "    plt.subplots_adjust(hspace=0.25)\n",
    "\n",
    "    figure_dict[eval_setting] = fig"
   ]
  },
  {
   "cell_type": "code",
   "execution_count": null,
   "metadata": {},
   "outputs": [],
   "source": [
    "# iterate over figure dict and save the result\n",
    "for item in figure_dict.items():\n",
    "    item[1].savefig(path_output / \"real_world\" / f\"{item[0]}.png\", dpi=300)"
   ]
  }
 ],
 "metadata": {
  "kernelspec": {
   "display_name": "sl_calibration",
   "language": "python",
   "name": "python3"
  },
  "language_info": {
   "codemirror_mode": {
    "name": "ipython",
    "version": 3
   },
   "file_extension": ".py",
   "mimetype": "text/x-python",
   "name": "python",
   "nbconvert_exporter": "python",
   "pygments_lexer": "ipython3",
   "version": "3.10.14"
  }
 },
 "nbformat": 4,
 "nbformat_minor": 4
}
