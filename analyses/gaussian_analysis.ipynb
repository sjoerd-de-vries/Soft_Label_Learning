{
 "cells": [
  {
   "cell_type": "code",
   "execution_count": null,
   "metadata": {},
   "outputs": [],
   "source": [
    "import joblib\n",
    "import numpy as np\n",
    "\n",
    "import soft_label_learning.experiments.gaussians as gaussians\n",
    "from soft_label_learning.config import path_output"
   ]
  },
  {
   "cell_type": "code",
   "execution_count": null,
   "metadata": {},
   "outputs": [],
   "source": [
    "# get path to output folder\n",
    "save_path = path_output / \"gaussians\""
   ]
  },
  {
   "cell_type": "markdown",
   "metadata": {},
   "source": [
    "### No noise"
   ]
  },
  {
   "cell_type": "code",
   "execution_count": null,
   "metadata": {},
   "outputs": [],
   "source": [
    "# experiments name\n",
    "# TODO set to the datetime string of the result\n",
    "temp_path = \"date_hh_mm_ss\"  # 0.0 noise, 100k repeats\n",
    "\n",
    "# load the results\n",
    "result_string = temp_path + \"_results.joblib\"\n",
    "settings_string = temp_path + \"_settings.joblib\"\n",
    "exp_results = joblib.load(save_path / result_string)\n",
    "settings_dict = joblib.load(save_path / settings_string)"
   ]
  },
  {
   "cell_type": "code",
   "execution_count": null,
   "metadata": {},
   "outputs": [],
   "source": [
    "dimensions = settings_dict[\"problem_dimensions\"][0]\n",
    "distance = settings_dict[\"distance_values\"][0]\n",
    "noise_level = settings_dict[\"noise_values\"][0]\n",
    "c1_prob = settings_dict[\"c1_probabilities\"][0]"
   ]
  },
  {
   "cell_type": "code",
   "execution_count": null,
   "metadata": {},
   "outputs": [],
   "source": [
    "labels = [r\"$p(C_1$) = \" + str(x) for x in settings_dict[\"c1_probabilities\"]]\n",
    "dimensions = settings_dict[\"problem_dimensions\"][0]\n",
    "distance = settings_dict[\"distance_values\"][0]\n",
    "noise_level = settings_dict[\"noise_values\"][0]\n",
    "results = [\n",
    "    np.array(exp_results[(distance, dimensions, x, noise_level), \"soft_1\"])\n",
    "    - np.array(exp_results[(distance, dimensions, x, noise_level), \"hard_1\"])\n",
    "    for x in settings_dict[\"c1_probabilities\"]\n",
    "]\n",
    "\n",
    "fig = gaussians.plot_multiple_lines(settings_dict[\"n_samples_list\"], results, labels)"
   ]
  },
  {
   "cell_type": "code",
   "execution_count": null,
   "metadata": {},
   "outputs": [],
   "source": [
    "if True:\n",
    "    fig.savefig(\n",
    "        save_path / \"gaussian_2d_0.0_noise.png\",\n",
    "        dpi=300,\n",
    "        bbox_inches=\"tight\",\n",
    "    )"
   ]
  },
  {
   "cell_type": "markdown",
   "metadata": {},
   "source": [
    "### With noise"
   ]
  },
  {
   "cell_type": "code",
   "execution_count": null,
   "metadata": {},
   "outputs": [],
   "source": [
    "# experiments name\n",
    "# TODO set to the datetime string of the result\n",
    "temp_path = \"date_hh_mm_ss\"  # 0.1 noise, 100k repeats\n",
    "\n",
    "# load the results\n",
    "result_string = temp_path + \"_results.joblib\"\n",
    "settings_string = temp_path + \"_settings.joblib\"\n",
    "exp_results = joblib.load(save_path / result_string)\n",
    "settings_dict = joblib.load(save_path / settings_string)"
   ]
  },
  {
   "cell_type": "code",
   "execution_count": null,
   "metadata": {},
   "outputs": [],
   "source": [
    "dimensions = settings_dict[\"problem_dimensions\"][0]\n",
    "distance = settings_dict[\"distance_values\"][0]\n",
    "noise_level = settings_dict[\"noise_values\"][0]\n",
    "c1_prob = settings_dict[\"c1_probabilities\"][0]"
   ]
  },
  {
   "cell_type": "code",
   "execution_count": null,
   "metadata": {},
   "outputs": [],
   "source": [
    "labels = [r\"$p(C_1$) = \" + str(x) for x in settings_dict[\"c1_probabilities\"]]\n",
    "dimensions = settings_dict[\"problem_dimensions\"][0]\n",
    "distance = settings_dict[\"distance_values\"][0]\n",
    "noise_level = settings_dict[\"noise_values\"][0]\n",
    "results = [\n",
    "    np.array(exp_results[(distance, dimensions, x, noise_level), \"soft_1\"])\n",
    "    - np.array(exp_results[(distance, dimensions, x, noise_level), \"hard_1\"])\n",
    "    for x in settings_dict[\"c1_probabilities\"]\n",
    "]\n",
    "\n",
    "fig = gaussians.plot_multiple_lines(settings_dict[\"n_samples_list\"], results, labels)"
   ]
  },
  {
   "cell_type": "code",
   "execution_count": null,
   "metadata": {},
   "outputs": [],
   "source": [
    "if True:\n",
    "    fig.savefig(\n",
    "        save_path / \"gaussian_2d_0.1_noise.png\",\n",
    "        dpi=300,\n",
    "        bbox_inches=\"tight\",\n",
    "    )"
   ]
  }
 ],
 "metadata": {
  "kernelspec": {
   "display_name": "sl_calibration",
   "language": "python",
   "name": "python3"
  },
  "language_info": {
   "codemirror_mode": {
    "name": "ipython",
    "version": 3
   },
   "file_extension": ".py",
   "mimetype": "text/x-python",
   "name": "python",
   "nbconvert_exporter": "python",
   "pygments_lexer": "ipython3",
   "version": "3.10.14"
  }
 },
 "nbformat": 4,
 "nbformat_minor": 4
}
