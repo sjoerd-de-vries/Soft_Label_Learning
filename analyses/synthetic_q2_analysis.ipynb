{
 "cells": [
  {
   "cell_type": "code",
   "execution_count": null,
   "metadata": {},
   "outputs": [],
   "source": [
    "import json\n",
    "\n",
    "import matplotlib.pyplot as plt\n",
    "from utils import get_linestyle_dict, total_size\n",
    "\n",
    "from soft_label_learning.config import path_output, path_repository\n",
    "from soft_label_learning.experiments.experiment_settings import (\n",
    "    methods_without_threshold,\n",
    "    q2_settings,\n",
    ")\n",
    "from soft_label_learning.experiments.process_synthetic_data import (\n",
    "    get_noise_replace_dict,\n",
    "    plot_variation_over_sets_on_axis,\n",
    ")"
   ]
  },
  {
   "cell_type": "markdown",
   "metadata": {},
   "source": [
    "Obtaining the experiment base parameters"
   ]
  },
  {
   "cell_type": "code",
   "execution_count": null,
   "metadata": {},
   "outputs": [],
   "source": [
    "# TODO set datetime to the desired result folder\n",
    "settings_dict, result_path = (\n",
    "    q2_settings,\n",
    "    \"q2_results_processed_date_hh_mm_ss\",\n",
    ")"
   ]
  },
  {
   "cell_type": "code",
   "execution_count": null,
   "metadata": {},
   "outputs": [],
   "source": [
    "methods = methods_without_threshold\n",
    "datasets = [x[:-4] for x in settings_dict[\"dataset\"]]\n",
    "classifiers = [x for x in settings_dict[\"clf\"]]\n",
    "metrics = [\"TVD\", \"hard_soft_AUC\"]\n",
    "fixed_settings = settings_dict.copy()\n",
    "\n",
    "fixed_settings[\"ens_propagation\"] = True\n",
    "fixed_settings[\"alpha\"] = 1"
   ]
  },
  {
   "cell_type": "markdown",
   "metadata": {},
   "source": [
    "#### Loading results"
   ]
  },
  {
   "cell_type": "code",
   "execution_count": null,
   "metadata": {},
   "outputs": [],
   "source": [
    "with open(\n",
    "    path_repository / \"experiments\" / \"synthetic_data_results\" / f\"{result_path}.json\",\n",
    "    \"r\",\n",
    ") as f:\n",
    "    result_dict_load_json = json.load(f)"
   ]
  },
  {
   "cell_type": "code",
   "execution_count": null,
   "metadata": {},
   "outputs": [],
   "source": [
    "result_dict = result_dict_load_json\n",
    "print(f\"total size of the result dict: {total_size(result_dict)}\")"
   ]
  },
  {
   "cell_type": "markdown",
   "metadata": {},
   "source": [
    "#### Generate Figures"
   ]
  },
  {
   "cell_type": "code",
   "execution_count": null,
   "metadata": {},
   "outputs": [],
   "source": [
    "save = True\n",
    "base_norm = False\n",
    "\n",
    "adjusted_methods = methods\n",
    "\n",
    "method_style_dict = get_linestyle_dict()\n",
    "\n",
    "save_path = path_output / \"Q2\"\n",
    "\n",
    "noise_replace_dict = get_noise_replace_dict()\n",
    "\n",
    "for metric in [\"hard_soft_AUC\", \"TVD\"]:\n",
    "    for mtvd in [\"1\", \"2\"]:\n",
    "        # Create a figure with a 6x4 grid of subplots\n",
    "        fig, axes = plt.subplots(6, 4, figsize=(15, 20))\n",
    "\n",
    "        # Iterate over the 6x4 grid and plot something in each subplot\n",
    "        for col_idx, classifier in enumerate(classifiers):\n",
    "            for row_idx, noise_type in enumerate(settings_dict[\"noise_type\"][1:]):\n",
    "                ax = axes[row_idx, col_idx]\n",
    "\n",
    "                plot_variation_over_sets_on_axis(\n",
    "                    ax,\n",
    "                    result_dict[\"rf\"][mtvd],\n",
    "                    datasets=datasets,\n",
    "                    title=f\"{classifier}, {noise_replace_dict[noise_type]}\",\n",
    "                    linestyle_dict=method_style_dict,\n",
    "                    metric=metric,\n",
    "                    clf=classifier,\n",
    "                    noise_type=noise_type,\n",
    "                    method=adjusted_methods,\n",
    "                    base_norm=base_norm,\n",
    "                )\n",
    "\n",
    "        # Extract the handles and labels from one of the axes\n",
    "        handles, labels = axes[0, 0].get_legend_handles_labels()\n",
    "\n",
    "        # Create a legend for the entire figure at the bottom\n",
    "        fig.legend(\n",
    "            handles, labels, loc=\"upper center\", bbox_to_anchor=(0.51, -0.00), ncol=7\n",
    "        )\n",
    "\n",
    "        metric_dict = {\"hard_soft_AUC\": \"AUC\", \"TVD\": r\"$\\overline{TVD}$\"}\n",
    "\n",
    "        for i in range(6):\n",
    "            axes[i, 0].set_ylabel(metric_dict[metric])\n",
    "\n",
    "        for i in range(4):\n",
    "            axes[5, i].set_xlabel(\"Noise level\")\n",
    "\n",
    "        # Adjust layout\n",
    "        plt.tight_layout()\n",
    "        plt.show()\n",
    "\n",
    "        if save:\n",
    "            fig.savefig(\n",
    "                bbox_inches=\"tight\",\n",
    "                fname=save_path / f\"RF_{mtvd}_{metric}_base_{base_norm}.png\",\n",
    "                dpi=300,\n",
    "            )"
   ]
  }
 ],
 "metadata": {
  "kernelspec": {
   "display_name": "soft_label_calibration",
   "language": "python",
   "name": "python3"
  },
  "language_info": {
   "codemirror_mode": {
    "name": "ipython",
    "version": 3
   },
   "file_extension": ".py",
   "mimetype": "text/x-python",
   "name": "python",
   "nbconvert_exporter": "python",
   "pygments_lexer": "ipython3",
   "version": "3.10.14"
  }
 },
 "nbformat": 4,
 "nbformat_minor": 2
}
